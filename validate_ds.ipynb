{
 "cells": [
  {
   "cell_type": "code",
   "execution_count": null,
   "id": "383fc9d9-2187-43d1-bc58-8c86eab1143f",
   "metadata": {},
   "outputs": [],
   "source": [
    "from pinn.io import load_ds"
   ]
  },
  {
   "cell_type": "markdown",
   "id": "e74ae75c-8f9b-42d1-ad0f-9f0807bfddc3",
   "metadata": {},
   "source": [
    "## Comparing energies"
   ]
  },
  {
   "cell_type": "markdown",
   "id": "1c6c253a-9735-401e-b483-28fac4d2b8e1",
   "metadata": {},
   "source": [
    "## Plot data distribution\n",
    "\n",
    "Histogram is plotted using the [plt.hist] and [plt.scatter] functions, more options are available in the options.\n",
    "\n",
    "[plt.hist]: https://matplotlib.org/stable/api/_as_gen/matplotlib.pyplot.hist.html\n",
    "[plt.scatter]: https://matplotlib.org/stable/api/_as_gen/matplotlib.pyplot.scatter.html\n",
    "\n",
    "Alternatively, save data as txt files using [np.savetxt] like this:\n",
    "\n",
    "[np.savetxt]: https://numpy.org/doc/stable/reference/generated/numpy.savetxt.html\n",
    "\n",
    "```python\n",
    "np.savetxt('e_qm9.txt', e_qm9)\n",
    "```"
   ]
  },
  {
   "cell_type": "code",
   "execution_count": null,
   "id": "36c30005-e1dc-4223-b765-b85e8a4f0793",
   "metadata": {},
   "outputs": [],
   "source": [
    "%matplotlib inline\n",
    "import numpy as np\n",
    "import matplotlib.pyplot as plt\n",
    "hartree2eV = 27.211407953 # qm9 data are given in hartree while qm9x in eV"
   ]
  },
  {
   "cell_type": "code",
   "execution_count": null,
   "id": "30a03ed8-675e-4de2-baad-c1a9f6a81eec",
   "metadata": {},
   "outputs": [],
   "source": [
    "qm9x = load_ds('qm9x.yml')\n",
    "qm9 = load_ds('qm9.yml')\n",
    "rea = load_ds('reactant.yml')\n",
    "pro = load_ds('product.yml')\n",
    "ts = load_ds('ts.yml')\n",
    "\n",
    "def get_ref(datum, unit=1):\n",
    "    REF_ATOM = {\n",
    "        1: -13.62222753701504,\n",
    "        6: -1029.4130839658328,\n",
    "        7: -1484.8710358098756,\n",
    "        8: -2041.8396277138045,\n",
    "        9: -2712.8213146878606,\n",
    "    }\n",
    "    ref = sum(REF_ATOM[e] for e in datum['elems'])\n",
    "    return ref"
   ]
  },
  {
   "cell_type": "code",
   "execution_count": null,
   "id": "b494bd00-687e-44a4-8032-e5cf5f4fe805",
   "metadata": {},
   "outputs": [],
   "source": [
    "e_qm9 =  np.array([d['e_data'] for d in qm9.as_numpy_iterator()])\n",
    "e_qm9x = np.array([d['e_data'] for d in qm9x.as_numpy_iterator()])\n",
    "e_rea =  np.array([d['e_data'] for d in rea.as_numpy_iterator()])\n",
    "e_pro =  np.array([d['e_data'] for d in pro.as_numpy_iterator()])\n",
    "e_ts =   np.array([d['e_data'] for d in ts.as_numpy_iterator()])"
   ]
  },
  {
   "cell_type": "code",
   "execution_count": null,
   "id": "3f01ce9b-a18b-406d-847b-d29c2bbc7ba5",
   "metadata": {},
   "outputs": [],
   "source": [
    "ref_qm9  = np.array([get_ref(d) for d in qm9.as_numpy_iterator()])\n",
    "ref_qm9x = np.array([get_ref(d) for d in qm9x.as_numpy_iterator()])\n",
    "ref_rea  = np.array([get_ref(d) for d in rea.as_numpy_iterator()])\n",
    "ref_pro  = np.array([get_ref(d) for d in pro.as_numpy_iterator()])\n",
    "ref_ts   = np.array([get_ref(d) for d in ts.as_numpy_iterator()])"
   ]
  },
  {
   "cell_type": "code",
   "execution_count": null,
   "id": "f54e6318-51d7-4662-ad8d-abcbf6ca713a",
   "metadata": {},
   "outputs": [],
   "source": [
    "plt.hist(e_qm9  - ref_qm9 , 25, density=True, label='QM9')\n",
    "plt.hist(e_qm9x - ref_qm9x, 25, density=True, label='QM9x', histtype='step')\n",
    "plt.hist(e_rea  - ref_rea , 25, density=True, label='Reactant', histtype='step')\n",
    "plt.hist(e_pro  - ref_pro , 25, density=True, label='Product', histtype='step')\n",
    "plt.hist(e_ts   - ref_ts  , 25, density=True, label='Transition State', histtype='step')\n",
    "\n",
    "plt.legend()\n",
    "plt.savefig('qm9x_e_hist.png')"
   ]
  },
  {
   "cell_type": "code",
   "execution_count": null,
   "id": "401efb8f-e926-48b7-b629-3ffd1a280253",
   "metadata": {},
   "outputs": [],
   "source": [
    "plt.scatter(e_qm9x, e_qm9*hartree2eV) # the data do not seem to be ordered"
   ]
  }
 ],
 "metadata": {
  "kernelspec": {
   "display_name": "pinn-tf26",
   "language": "python",
   "name": "pinn-tf26"
  },
  "language_info": {
   "codemirror_mode": {
    "name": "ipython",
    "version": 3
   },
   "file_extension": ".py",
   "mimetype": "text/x-python",
   "name": "python",
   "nbconvert_exporter": "python",
   "pygments_lexer": "ipython3",
   "version": "3.9.5"
  }
 },
 "nbformat": 4,
 "nbformat_minor": 5
}
