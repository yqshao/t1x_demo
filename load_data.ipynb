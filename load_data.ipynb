{
 "cells": [
  {
   "cell_type": "markdown",
   "id": "9b0a0b29-73d2-4d39-a861-4989a185f312",
   "metadata": {},
   "source": [
    "# Notebook for downloading and converting datasets"
   ]
  },
  {
   "cell_type": "code",
   "execution_count": null,
   "id": "d142eaf8-b259-4bb2-94a3-fddbce6fd35e",
   "metadata": {},
   "outputs": [],
   "source": [
    "import os\n",
    "tmp = os.environ['TMPDIR']"
   ]
  },
  {
   "cell_type": "markdown",
   "id": "f9ee593e-35d1-4167-80e1-112651c1336e",
   "metadata": {},
   "source": [
    "## Helper functions"
   ]
  },
  {
   "cell_type": "code",
   "execution_count": null,
   "id": "04f1c59d-94e9-4ae5-82a9-ca62063f0656",
   "metadata": {
    "tags": []
   },
   "outputs": [],
   "source": [
    "def step(cnt):\n",
    "    if cnt%100==0:\n",
    "        print(f'\\r{cnt} data processed', end='')\n",
    "    return cnt+1\n",
    "\n",
    "def load_transition1x(fname, selection='all', slient=False):\n",
    "    \"\"\" Adapted from the original transition1x dataset loader, with \n",
    "    different selection rules that allows for selecting reactants, \n",
    "    products, etc.\n",
    "    \n",
    "    Args:\n",
    "        fname (str): path to the file\n",
    "        selection (str): \"all\", \"final\", \"reactant\", \"product\", or \"ts\"\n",
    "    \"\"\"\n",
    "    assert selection in (\"all\", \"final\", \"reactant\", \"product\", \"ts\"), \"Unknown selection\"\n",
    "    \n",
    "    import h5py\n",
    "    from tips.io import Dataset\n",
    "    \n",
    "    meta = {\n",
    "        'spec': {\n",
    "            'elems': {'shape': [None], 'dtype': 'int32'},\n",
    "            'coord': {'shape': [None, 3], 'dtype': 'float32'},\n",
    "            'e_data': {'shape': [], 'dtype': 'float32'},\n",
    "            'f_data': {'shape': [None, 3], 'dtype': 'float32'},\n",
    "        },\n",
    "        'fmt': 'Transition 1x dataset'\n",
    "    }\n",
    "    \n",
    "    \n",
    "    def grp2d(formula, rxn, grp):\n",
    "        \"\"\" Iterates through a h5 group (transition 1x ver.)\"\"\"\n",
    "        energies = grp[\"wB97x_6-31G(d).energy\"]\n",
    "        forces = grp[\"wB97x_6-31G(d).forces\"]\n",
    "        numbers = list(grp[\"atomic_numbers\"])\n",
    "        positions = grp[\"positions\"]\n",
    "        for energy, force, positions in zip(energies, forces, positions):\n",
    "            d = {\n",
    "                \"e_data\": energy.__float__(),\n",
    "                \"f_data\": force.tolist(),\n",
    "                \"coord\": positions,\n",
    "                \"elem\": numbers,\n",
    "            }\n",
    "        yield d\n",
    "    \n",
    "    def generator():\n",
    "        h5ds = h5py.File(fname)['data']\n",
    "        cnt = 0\n",
    "        def step(cnt):\n",
    "            if cnt%100==0:\n",
    "                print(f'\\r{cnt} data processed', end='')\n",
    "            return cnt+1\n",
    "        \n",
    "        for formula, grp in h5ds.items():\n",
    "            for rxn, subgrp in grp.items():\n",
    "                if selection in (\"all\", \"final\", \"reactant\"):\n",
    "                    mol = next(grp2d(formula, rxn, subgrp[\"reactant\"]))\n",
    "                    cnt = step(cnt); yield mol\n",
    "                    \n",
    "                if selection in (\"all\", \"final\", \"product\"):\n",
    "                    mol = next(grp2d(formula, rxn, subgrp[\"product\"]))\n",
    "                    cnt = step(cnt); yield mol\n",
    "                    \n",
    "                if selection in (\"final\", \"ts\"):\n",
    "                    mol = next(grp2d(formula, rxn, subgrp[\"transition_state\"]))\n",
    "                    cnt = step(cnt); yield mol\n",
    "\n",
    "                if selection in (\"all\"):\n",
    "                    for mol in grp2d(formula, rxn, subgrp):\n",
    "                        cnt = step(cnt); yield mol\n",
    "                        \n",
    "    return Dataset(generator=generator, meta=meta)\n",
    "\n",
    "def load_qm9x(fname, slient=False):\n",
    "    import h5py\n",
    "    from tips.io import Dataset\n",
    "    \n",
    "    def grp2d(formula,  grp):\n",
    "        \"\"\" Iterates through a h5 group (QM9x ver.)\"\"\"\n",
    "        energies = grp[\"energy\"]\n",
    "        forces = grp[\"forces\"]\n",
    "        numbers = list(grp[\"atomic_numbers\"])\n",
    "        positions = grp[\"positions\"]\n",
    "        for energy, force, positions in zip(energies, forces, positions):\n",
    "            d = {\n",
    "                \"e_data\": energy.__float__(),\n",
    "                \"f_data\": force.tolist(),\n",
    "                \"coord\": positions,\n",
    "                \"elem\": numbers,\n",
    "            }\n",
    "            yield d\n",
    "    \n",
    "    meta = {\n",
    "        'spec': {\n",
    "            'elems': {'shape': [None], 'dtype': 'int32'},\n",
    "            'coord': {'shape': [None, 3], 'dtype': 'float32'},\n",
    "            'e_data': {'shape': [], 'dtype': 'float32'},\n",
    "            'f_data': {'shape': [None, 3], 'dtype': 'float32'},\n",
    "        },\n",
    "        'fmt': 'QM9x dataset'\n",
    "    }\n",
    "    \n",
    "    def generator():\n",
    "        h5ds = h5py.File(fname)\n",
    "        cnt = 0\n",
    "        for formula, grp in h5ds.items():\n",
    "            for mol in grp2d(formula, grp):\n",
    "                cnt = step(cnt)\n",
    "                yield mol\n",
    "                        \n",
    "    return Dataset(generator=generator, meta=meta)"
   ]
  },
  {
   "cell_type": "markdown",
   "id": "098d55fc-23a3-446c-afdd-fa16bed1e0a5",
   "metadata": {},
   "source": [
    "## Downdload QM9x"
   ]
  },
  {
   "cell_type": "code",
   "execution_count": null,
   "id": "1fef95d6-3ae0-40d8-ac5b-50d9e8d17494",
   "metadata": {},
   "outputs": [],
   "source": [
    "!wget -q -O download_qm9x.py https://gitlab.com/matschreiner/qm9x/-/raw/master/scripts/download_qm9x.py\n",
    "!python download_qm9x.py {tmp}"
   ]
  },
  {
   "cell_type": "markdown",
   "id": "93fc8286-80ef-4815-86c7-17569deed2b1",
   "metadata": {},
   "source": [
    "## Download Transition 1x"
   ]
  },
  {
   "cell_type": "code",
   "execution_count": null,
   "id": "dbf77915-e34e-462f-90e1-0741412c4ddc",
   "metadata": {},
   "outputs": [],
   "source": [
    "!wget -q -O download_t1x.py https://gitlab.com/matschreiner/Transition1x/-/raw/main/download_t1x.py\n",
    "!python download_t1x.py {tmp}"
   ]
  },
  {
   "cell_type": "markdown",
   "id": "de209b42-ae93-4b60-aed4-dad5da72208d",
   "metadata": {},
   "source": [
    "## Load and convert T1X\n",
    "\n",
    "**OPTIONS FOR T1X**\n",
    "- \"reactant\", \"product\", or \"ts\"\n",
    "- \"final\": reactants, products, transition states\n",
    "- \"all\": all data from t1x"
   ]
  },
  {
   "cell_type": "code",
   "execution_count": null,
   "id": "75cd2a19-c60c-4174-8b0a-177b997f5021",
   "metadata": {},
   "outputs": [],
   "source": [
    "fname = f'{tmp}/transition1x.h5'\n",
    "ds = load_transition1x(fname, 'reactant') \n",
    "ds.convert('product', fmt='pinn')"
   ]
  },
  {
   "cell_type": "code",
   "execution_count": null,
   "id": "bf4cab72-26b2-45c6-93b7-2e11035c1397",
   "metadata": {},
   "outputs": [],
   "source": [
    "fname = f'{tmp}/qm9x.h5'\n",
    "ds = load_qm9x(fname)\n",
    "ds.convert('qm9x', fmt='pinn')"
   ]
  },
  {
   "cell_type": "markdown",
   "id": "85b4403f-8190-4005-b478-0c6d42196d3a",
   "metadata": {},
   "source": [
    "## Download and convert QM9"
   ]
  },
  {
   "cell_type": "code",
   "execution_count": null,
   "id": "53995983-8472-4df7-b222-96eb2be61843",
   "metadata": {},
   "outputs": [],
   "source": [
    "!mkdir -p {tmp}/dsgdb9nsd && curl -sSL https://ndownloader.figshare.com/files/3195389 | tar xj -C {tmp}/dsgdb9nsd"
   ]
  },
  {
   "cell_type": "code",
   "execution_count": null,
   "id": "7a0fe055-d537-452c-addf-f8a0239614aa",
   "metadata": {},
   "outputs": [],
   "source": [
    "# QM9 support is through the pinn package, note the syntax difference\n",
    "from pinn.io import load_qm9, write_tfrecord\n",
    "from glob import glob\n",
    "\n",
    "def hartree2ev(datum):\n",
    "    datum['e_data'] = 27.211407953*datum['e_data']\n",
    "    return datum\n",
    "\n",
    "filelist = sorted(glob(f'{tmp}/dsgdb9nsd/*.xyz'))\n",
    "ds = load_qm9(filelist).map(hartree2ev)\n",
    "write_tfrecord('qm9.yml', ds)"
   ]
  }
 ],
 "metadata": {
  "kernelspec": {
   "display_name": "pinn-tf26",
   "language": "python",
   "name": "pinn-tf26"
  },
  "language_info": {
   "codemirror_mode": {
    "name": "ipython",
    "version": 3
   },
   "file_extension": ".py",
   "mimetype": "text/x-python",
   "name": "python",
   "nbconvert_exporter": "python",
   "pygments_lexer": "ipython3",
   "version": "3.9.5"
  }
 },
 "nbformat": 4,
 "nbformat_minor": 5
}
