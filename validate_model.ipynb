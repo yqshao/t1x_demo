{
 "cells": [
  {
   "cell_type": "markdown",
   "id": "e9987b97-bb04-45f4-af30-a7a86c3899c9",
   "metadata": {},
   "source": [
    "# Validation with model.predict"
   ]
  },
  {
   "cell_type": "code",
   "execution_count": null,
   "id": "94e30518-d69a-417e-8742-cad7717d5acc",
   "metadata": {},
   "outputs": [],
   "source": [
    "%matplotlib inline\n",
    "import numpy as np\n",
    "import matplotlib.pyplot as plt\n",
    "from pinn import get_model\n",
    "from pinn.io import load_ds, sparse_batch\n",
    "## reference data from https://gitlab.com/matschreiner/Transition1x/-/blob/main/transition1x/dataloader.py\n",
    "def get_ref(datum, unit=1):\n",
    "    REF_ATOM = {\n",
    "        1: -13.62222753701504,\n",
    "        6: -1029.4130839658328,\n",
    "        7: -1484.8710358098756,\n",
    "        8: -2041.8396277138045,\n",
    "        9: -2712.8213146878606,\n",
    "    }\n",
    "    ref = sum(REF_ATOM[e] for e in datum['elems'])\n",
    "    return ref"
   ]
  },
  {
   "cell_type": "markdown",
   "id": "7cbde06a-d792-4550-9d74-2bf5df9a0977",
   "metadata": {},
   "source": [
    "## Getting labels and predictions\n",
    "\n",
    "- label (`*_data`) are loaded as in `validate_ds.ipynb`\n",
    "- the predictor requires the dataset to be a function (`lambda` expression)\n",
    "- optionally, this can be done on a subset"
   ]
  },
  {
   "cell_type": "code",
   "execution_count": null,
   "id": "c2e34618-3914-478b-8e7e-6647db88c248",
   "metadata": {},
   "outputs": [],
   "source": [
    "model = get_model('../t1x_trial/benchmark/models/qm9-pinet-1/model/')\n",
    "ds = lambda: load_ds('../t1x_trial/datasets/final.yml').apply(sparse_batch(1)).take(500)"
   ]
  },
  {
   "cell_type": "code",
   "execution_count": null,
   "id": "5759c284-ed56-4594-884a-3ad7562bbbf6",
   "metadata": {},
   "outputs": [],
   "source": [
    "e_ref = np.array([get_ref(d) for d in ds().as_numpy_iterator()])\n",
    "e_data = np.array([d['e_data'].squeeze() for d in ds().as_numpy_iterator()])\n",
    "f_data = np.concatenate([d['f_data'].flatten() for d in ds().as_numpy_iterator()])"
   ]
  },
  {
   "cell_type": "code",
   "execution_count": null,
   "id": "109eebf4-4167-4d28-9f7a-200567b36a48",
   "metadata": {},
   "outputs": [],
   "source": [
    "predictor = model.predict(ds)\n",
    "cnt = 0\n",
    "e_pred=[]\n",
    "f_pred=[]\n",
    "f_pred_3d = []\n",
    "for pred in predictor:\n",
    "    cnt += 1\n",
    "    if cnt%100==0: print(f'\\r{cnt}', end='')\n",
    "    e_pred.append(pred['energy'])\n",
    "    f_pred.append(pred['forces'].flatten())\n",
    "    f_pred_3d.append(pred['forces'])\n",
    "    \n",
    "e_pred = np.array(e_pred)\n",
    "f_pred = np.concatenate(f_pred)"
   ]
  },
  {
   "cell_type": "markdown",
   "id": "95b13d9a-0306-405a-8050-2a597f703025",
   "metadata": {},
   "source": [
    "## Plotting energy and force errors\n",
    "\n",
    "Create subplots in matplotlib with [plt.subplots]\n",
    "\n",
    "[plt.subplots]: https://matplotlib.org/stable/api/_as_gen/matplotlib.pyplot.subplots.html"
   ]
  },
  {
   "cell_type": "code",
   "execution_count": null,
   "id": "71413838-6593-422d-9016-5544fdef9023",
   "metadata": {},
   "outputs": [],
   "source": [
    "f, axs = plt.subplots(1, 2, figsize=[8,4])\n",
    "\n",
    "axs[0].scatter(e_data-e_ref, e_pred-e_ref)\n",
    "axs[1].scatter(f_data, f_pred)"
   ]
  },
  {
   "cell_type": "markdown",
   "id": "6e7c9b7c-5b0c-41a7-bdd0-0a55573a885a",
   "metadata": {},
   "source": [
    "## Reporting numbers **check the units！**\n"
   ]
  },
  {
   "cell_type": "code",
   "execution_count": null,
   "id": "02b785ab-e009-45f7-b15d-2d70f778313a",
   "metadata": {},
   "outputs": [],
   "source": [
    "f_rmse = np.mean((f_data - f_pred)**2)\n",
    "e_rmse = np.mean((e_data - e_pred)**2)\n",
    "print ( f'E RMSE {e_rmse} [UNIT];  F RMSE {f_rmse} [UNIT].' )"
   ]
  },
  {
   "cell_type": "markdown",
   "id": "fb2e2225-446e-4d04-8cf4-6c268b555030",
   "metadata": {},
   "source": [
    "## Automat generation of numbers\n",
    "\n",
    "```python\n",
    "from glob import glob\n",
    "all_models = glob('../t1x_trial/benchmark/models/*/model/')\n",
    "for model = all_models:\n",
    "    ...\n",
    "```"
   ]
  },
  {
   "cell_type": "markdown",
   "id": "daf5b9fd-82d0-4985-80d9-ae2dc78ff51e",
   "metadata": {},
   "source": [
    "## Export trajectories\n",
    "\n",
    "Write data, add predicted forces as an extra column. This can be visualized with OVITO (map the force_pred to vectorialz properties such as dipole, and change the visual element accordingly)"
   ]
  },
  {
   "cell_type": "code",
   "execution_count": null,
   "id": "2be2002b-0453-4766-94d6-2fd0723f46ef",
   "metadata": {},
   "outputs": [],
   "source": [
    "from mock import patch\n",
    "from ase.calculators.calculator import all_properties\n",
    "from ase.io.extxyz import per_atom_properties\n",
    "\n",
    "# patches for ASE IO modules\n",
    "extra_properties = ['forces_pred']\n",
    "all_prop_patch = patch(\"ase.io.extxyz.all_properties\", all_properties + extra_properties)\n",
    "atom_prop_patch = patch(\"ase.io.extxyz.per_atom_properties\", per_atom_properties + extra_properties)\n",
    "sp_patch = patch(\"ase.calculators.singlepoint.all_properties\",  all_properties + extra_properties)"
   ]
  },
  {
   "cell_type": "code",
   "execution_count": null,
   "id": "49f5b104-4ee0-49d9-9f92-20c25204b3fe",
   "metadata": {
    "tags": []
   },
   "outputs": [],
   "source": [
    "with sp_patch, atom_prop_patch, all_prop_patch:\n",
    "    from ase.calculators.singlepoint import SinglePointCalculator\n",
    "    from ase import Atoms\n",
    "    from ase.io import write\n",
    "    traj = []\n",
    "    for d, f in zip(ds(), f_pred_3d):\n",
    "        atoms = Atoms(d['elems'].numpy(), positions=d['coord'].numpy())\n",
    "        calc = SinglePointCalculator(\n",
    "            atoms, \n",
    "            forces=d['f_data'].numpy(),\n",
    "            forces_pred=f)\n",
    "        atoms.calc = calc\n",
    "        traj.append(atoms)\n",
    "    write('export.xyz', traj)"
   ]
  }
 ],
 "metadata": {
  "kernelspec": {
   "display_name": "pinn-tf26",
   "language": "python",
   "name": "pinn-tf26"
  },
  "language_info": {
   "codemirror_mode": {
    "name": "ipython",
    "version": 3
   },
   "file_extension": ".py",
   "mimetype": "text/x-python",
   "name": "python",
   "nbconvert_exporter": "python",
   "pygments_lexer": "ipython3",
   "version": "3.9.5"
  }
 },
 "nbformat": 4,
 "nbformat_minor": 5
}
